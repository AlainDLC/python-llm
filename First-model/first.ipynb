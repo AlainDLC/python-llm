{
 "cells": [
  {
   "cell_type": "code",
   "execution_count": 5,
   "id": "f369cc13",
   "metadata": {},
   "outputs": [
    {
     "name": "stdout",
     "output_type": "stream",
     "text": [
      "learning path\n"
     ]
    }
   ],
   "source": [
    "test = \"learning path\"\n",
    "print(test)"
   ]
  },
  {
   "cell_type": "markdown",
   "id": "cbbb9c35",
   "metadata": {},
   "source": []
  }
 ],
 "metadata": {
  "kernelspec": {
   "display_name": ".venv",
   "language": "python",
   "name": "python3"
  },
  "language_info": {
   "codemirror_mode": {
    "name": "ipython",
    "version": 3
   },
   "file_extension": ".py",
   "mimetype": "text/x-python",
   "name": "python",
   "nbconvert_exporter": "python",
   "pygments_lexer": "ipython3",
   "version": "3.12.7"
  }
 },
 "nbformat": 4,
 "nbformat_minor": 5
}
