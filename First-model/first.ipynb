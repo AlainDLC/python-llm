{
 "cells": [
  {
   "cell_type": "code",
   "execution_count": 1,
   "id": "37ce2548",
   "metadata": {},
   "outputs": [],
   "source": [
    "import os\n",
    "import requests\n",
    "from dotenv import load_dotenv\n",
    "from bs4 import BeautifulSoup\n",
    "from IPython.display import Markdown, display\n",
    "from openai import OpenAI\n"
   ]
  },
  {
   "cell_type": "code",
   "execution_count": 2,
   "id": "83b67421",
   "metadata": {},
   "outputs": [
    {
     "name": "stdout",
     "output_type": "stream",
     "text": [
      "API key found and looks good so far!\n"
     ]
    }
   ],
   "source": [
    "# Load environment variables in a file called .env\n",
    "\n",
    "load_dotenv(override=True)\n",
    "api_key = os.getenv('OPENAI_API_KEY')\n",
    "\n",
    "# Check the key\n",
    "\n",
    "if not api_key:\n",
    "    print(\"No API key was found - please head over to the troubleshooting notebook in this folder to identify & fix!\")\n",
    "elif not api_key.startswith(\"sk-proj-\"):\n",
    "    print(\"An API key was found, but it doesn't start sk-proj-; please check you're using the right key - see troubleshooting notebook\")\n",
    "elif api_key.strip() != api_key:\n",
    "    print(\"An API key was found, but it looks like it might have space or tab characters at the start or end - please remove them - see troubleshooting notebook\")\n",
    "else:\n",
    "    print(\"API key found and looks good so far!\")\n"
   ]
  },
  {
   "cell_type": "code",
   "execution_count": 3,
   "id": "a0af3eb8",
   "metadata": {},
   "outputs": [],
   "source": [
    "openai = OpenAI()\n"
   ]
  },
  {
   "cell_type": "code",
   "execution_count": 4,
   "id": "34d77163",
   "metadata": {},
   "outputs": [
    {
     "name": "stdout",
     "output_type": "stream",
     "text": [
      "Hello! I'm glad you're here. I'm ready to help with any questions or topics you'd like to discuss. What's on your mind?\n"
     ]
    }
   ],
   "source": [
    "message = \"Hello GPT! This is my first messeage to you. Was Up! \"\n",
    "response = openai.chat.completions.create(model=\"gpt-4o-mini\", messages=[{\"role\":\"user\", \"content\":message}])\n",
    "print(response.choices[0].message.content)"
   ]
  },
  {
   "cell_type": "code",
   "execution_count": 5,
   "id": "b93b1871",
   "metadata": {},
   "outputs": [],
   "source": [
    "# A class to represent a webpage\n",
    "\n",
    "headers = {\n",
    " \"User-Agent\": \"Mozilla/5.0 (Windows NT 10.0; Win64; x64) AppleWebKit/537.36 (KHTML, like Gecko) Chrome/117.0.0.0 Safari/537.36\"\n",
    "}\n",
    "\n",
    "class Website:\n",
    "\n",
    "    def __init__(self, url):\n",
    "        \"\"\"\n",
    "        Create this Website object from the given url using the BeautifulSoup library\n",
    "        \"\"\"\n",
    "        self.url = url\n",
    "        response = requests.get(url, headers=headers)\n",
    "        soup = BeautifulSoup(response.content, 'html.parser')\n",
    "        self.title = soup.title.string if soup.title else \"No title found\"\n",
    "        for irrelevant in soup.body([\"script\", \"style\", \"img\", \"input\"]):\n",
    "            irrelevant.decompose()\n",
    "        self.text = soup.body.get_text(separator=\"\\n\", strip=True)\n"
   ]
  },
  {
   "cell_type": "code",
   "execution_count": 6,
   "id": "48726537",
   "metadata": {},
   "outputs": [
    {
     "name": "stdout",
     "output_type": "stream",
     "text": [
      "DLCT PIXE SYSTEM\n",
      "Alain De La Cuadra\n",
      "Fullstack Developer Specializing in Frontend\n",
      "Designar och implementerar användarvänliga och responsiva gränssnitt som fascinerar och engagerar. Min entusiasm för frontend kompletteras av en bred förståelse för hela stacken, vilket gör att jag kan bygga robusta och skalbara webblösningar. Ständig utveckling och samarbete är kärnan i mitt arbete.\n",
      "CLONA OCH KÖR PÅ!\n",
      "Pusselbitar och Programvara\n",
      "AI Generate Course\n",
      "Kräver egen API-nyckel – funkar med Gemini ,OpenAi.\n",
      "Skapa egna AI-drivna utbildningar med Youtube.\n",
      "GitHub Repo\n",
      "Visa på LinkedIn\n",
      "AI Wireframe to Code\n",
      "Omvandla skisser till kod. Kräver Gemini API-nyckel.\n",
      "Testa hur AI tolkar design och genererar färdig kod.\n",
      "GitHub Repo\n",
      "Visa på LinkedIn\n",
      "LMS System\n",
      "Online kurs byggd i Next.js – responsiv och skalbar.\n",
      "Innehåller kurser, inloggning, framstegsspårning och mer.\n",
      "Besök sidan\n",
      "TECH STACK\n",
      "Här presenteras min expertis inom teknikstacken jag behärskar.\n",
      "Jag är flexibel och lär mig snabbt nya verktyg och tekniker för att möta just era behov.\n",
      "Hovra gärna över varje skill för att se en kort beskrivning.\n",
      "Prova även knapparna — min personliga avatar är en lekfull spegling av mig själv.\n",
      "Redo\n",
      "Kodar\n",
      "Tränar\n",
      "Bachata\n",
      "Salsa\n",
      "Helg\n",
      "Rekommendationer\n",
      "Martin Ekberg\n",
      "Systemutvecklare Yoin\n",
      "⭐️⭐️⭐️⭐️⭐️\n",
      "Alain har ett stort tekniskt intresse och vill alltid utvecklas. Hans förmåga att hålla stämningen på topp gör varje arbetsdag rolig och produktiv.\n",
      "Rekommenderar varmt!\n",
      "Länkar från\n",
      "Martin Ekberg\n",
      "LinkedIn\n",
      "Daiver y Andrea\n",
      "Grundare Dance by Daiver y Andrea\n",
      "⭐️⭐️⭐️⭐️⭐️\n",
      "Alains LMS-lösning har förändrat mitt sätt att undervisa online. Jag kan enkelt ladda upp klasser och följa elevernas utveckling smidigt. #LMS\n",
      "Magisk plattform!\n",
      "Länkar från\n",
      "Daiver y Andrea\n",
      "Dancebyda\n",
      "Hanna Sköld\n",
      "Systemutvecklare Volvo Finans\n",
      "⭐️⭐️⭐️⭐️⭐️\n",
      "Alain och jag arbetade i samma team och han bidrog alltid med en positiv stämning i gruppen. Han har stor kunskap särskilt i React.\n",
      "Professionell och engagerad!\n",
      "Länkar från\n",
      "Hanna Sköld\n",
      "LinkedIn\n",
      "Mikael Ishhanian\n",
      "UX-designer, Freelance\n",
      "⭐️⭐️⭐️⭐️⭐️\n",
      "Alain förstår design och UX-flöden på djupet. Han levererar alltid lösningar som är både snygga och användarvänliga för slutkunden. #Freelance\n",
      "Jobbar gärna med honom igen!\n",
      "Länkar från\n",
      "Mikael Ishhanian\n",
      "Behance\n",
      "Tillsammans tar vi fram din affärsidé och bygger smarta, skräddarsydda tekniska lösningar som speglar din vision och affärsmodell.\n",
      "Jag erbjuder expertis inom Learning Management Systems (LMS) för att säkerställa effektiv onboarding och kontinuerlig utbildning – både internt och för dina kunder. Genom digitala plattformar skapar vi strukturerad, engagerande och mätbar kompetensutveckling.\n",
      "Med avancerad AI-teknik, inklusive Retrieval-Augmented Generation (RAG) och prompt coaching, hjälper jag dig att maximera värdet av din data och fatta mer insiktsdrivna beslut. Vi gör din information sökbar, skalbar och användbar – i realtid.\n",
      "Jag utvecklar även anpassade chatbotar och AI-agenter som förbättrar kundupplevelsen, automatiserar support och skapar starkare relationer genom varje interaktion. Dessa agenter integreras sömlöst med dina system och lär sig kontinuerligt för att ge ännu bättre svar.\n",
      "2025 Alain De La Cuadra\n",
      "AI AGENT\n",
      "Välkommen! Behöver du hjälp med att växa eller förbättra din verksamhet med expertishjälp inom frontend- eller fullstackutveckling?\n"
     ]
    }
   ],
   "source": [
    "king = Website(\"https://portfself.vercel.app/\")\n",
    "print(king.title)\n",
    "print(king.text)\n"
   ]
  },
  {
   "cell_type": "code",
   "execution_count": 7,
   "id": "df48ab91",
   "metadata": {},
   "outputs": [],
   "source": [
    "# Define ou system promt\n",
    "\n",
    "system_prompt = \"You are an assistant that analyzes the contents of a website \\\n",
    "and provides a short summary, ignoring text that might be navigation related. \\\n",
    "Respond in markdown.\"\n",
    "\n",
    "\n",
    "\n"
   ]
  },
  {
   "cell_type": "code",
   "execution_count": 8,
   "id": "8d4417fd",
   "metadata": {},
   "outputs": [],
   "source": [
    "def user_prompt_for(website):\n",
    "    user_prompt = f\"You are looking at a website titled {website.title}\"\n",
    "    user_prompt += \"\\nThe contents of this website is as follows; \\\n",
    "please provide a short summary of this website in markdown. \\\n",
    "If it includes news or announcements, then summarize these too.\\n\\n\"\n",
    "    user_prompt += website.text\n",
    "    return user_prompt"
   ]
  },
  {
   "cell_type": "code",
   "execution_count": 9,
   "id": "6ae6dd7f",
   "metadata": {},
   "outputs": [
    {
     "name": "stdout",
     "output_type": "stream",
     "text": [
      "You are looking at a website titled DLCT PIXE SYSTEM\n",
      "The contents of this website is as follows; please provide a short summary of this website in markdown. If it includes news or announcements, then summarize these too.\n",
      "\n",
      "Alain De La Cuadra\n",
      "Fullstack Developer Specializing in Frontend\n",
      "Designar och implementerar användarvänliga och responsiva gränssnitt som fascinerar och engagerar. Min entusiasm för frontend kompletteras av en bred förståelse för hela stacken, vilket gör att jag kan bygga robusta och skalbara webblösningar. Ständig utveckling och samarbete är kärnan i mitt arbete.\n",
      "CLONA OCH KÖR PÅ!\n",
      "Pusselbitar och Programvara\n",
      "AI Generate Course\n",
      "Kräver egen API-nyckel – funkar med Gemini ,OpenAi.\n",
      "Skapa egna AI-drivna utbildningar med Youtube.\n",
      "GitHub Repo\n",
      "Visa på LinkedIn\n",
      "AI Wireframe to Code\n",
      "Omvandla skisser till kod. Kräver Gemini API-nyckel.\n",
      "Testa hur AI tolkar design och genererar färdig kod.\n",
      "GitHub Repo\n",
      "Visa på LinkedIn\n",
      "LMS System\n",
      "Online kurs byggd i Next.js – responsiv och skalbar.\n",
      "Innehåller kurser, inloggning, framstegsspårning och mer.\n",
      "Besök sidan\n",
      "TECH STACK\n",
      "Här presenteras min expertis inom teknikstacken jag behärskar.\n",
      "Jag är flexibel och lär mig snabbt nya verktyg och tekniker för att möta just era behov.\n",
      "Hovra gärna över varje skill för att se en kort beskrivning.\n",
      "Prova även knapparna — min personliga avatar är en lekfull spegling av mig själv.\n",
      "Redo\n",
      "Kodar\n",
      "Tränar\n",
      "Bachata\n",
      "Salsa\n",
      "Helg\n",
      "Rekommendationer\n",
      "Martin Ekberg\n",
      "Systemutvecklare Yoin\n",
      "⭐️⭐️⭐️⭐️⭐️\n",
      "Alain har ett stort tekniskt intresse och vill alltid utvecklas. Hans förmåga att hålla stämningen på topp gör varje arbetsdag rolig och produktiv.\n",
      "Rekommenderar varmt!\n",
      "Länkar från\n",
      "Martin Ekberg\n",
      "LinkedIn\n",
      "Daiver y Andrea\n",
      "Grundare Dance by Daiver y Andrea\n",
      "⭐️⭐️⭐️⭐️⭐️\n",
      "Alains LMS-lösning har förändrat mitt sätt att undervisa online. Jag kan enkelt ladda upp klasser och följa elevernas utveckling smidigt. #LMS\n",
      "Magisk plattform!\n",
      "Länkar från\n",
      "Daiver y Andrea\n",
      "Dancebyda\n",
      "Hanna Sköld\n",
      "Systemutvecklare Volvo Finans\n",
      "⭐️⭐️⭐️⭐️⭐️\n",
      "Alain och jag arbetade i samma team och han bidrog alltid med en positiv stämning i gruppen. Han har stor kunskap särskilt i React.\n",
      "Professionell och engagerad!\n",
      "Länkar från\n",
      "Hanna Sköld\n",
      "LinkedIn\n",
      "Mikael Ishhanian\n",
      "UX-designer, Freelance\n",
      "⭐️⭐️⭐️⭐️⭐️\n",
      "Alain förstår design och UX-flöden på djupet. Han levererar alltid lösningar som är både snygga och användarvänliga för slutkunden. #Freelance\n",
      "Jobbar gärna med honom igen!\n",
      "Länkar från\n",
      "Mikael Ishhanian\n",
      "Behance\n",
      "Tillsammans tar vi fram din affärsidé och bygger smarta, skräddarsydda tekniska lösningar som speglar din vision och affärsmodell.\n",
      "Jag erbjuder expertis inom Learning Management Systems (LMS) för att säkerställa effektiv onboarding och kontinuerlig utbildning – både internt och för dina kunder. Genom digitala plattformar skapar vi strukturerad, engagerande och mätbar kompetensutveckling.\n",
      "Med avancerad AI-teknik, inklusive Retrieval-Augmented Generation (RAG) och prompt coaching, hjälper jag dig att maximera värdet av din data och fatta mer insiktsdrivna beslut. Vi gör din information sökbar, skalbar och användbar – i realtid.\n",
      "Jag utvecklar även anpassade chatbotar och AI-agenter som förbättrar kundupplevelsen, automatiserar support och skapar starkare relationer genom varje interaktion. Dessa agenter integreras sömlöst med dina system och lär sig kontinuerligt för att ge ännu bättre svar.\n",
      "2025 Alain De La Cuadra\n",
      "AI AGENT\n",
      "Välkommen! Behöver du hjälp med att växa eller förbättra din verksamhet med expertishjälp inom frontend- eller fullstackutveckling?\n"
     ]
    }
   ],
   "source": [
    "print(user_prompt_for(king))\n"
   ]
  },
  {
   "cell_type": "code",
   "execution_count": 10,
   "id": "45fdcc8d",
   "metadata": {},
   "outputs": [],
   "source": [
    "def messages_for(website):\n",
    "    return [\n",
    "        {\"role\": \"system\", \"content\": system_prompt},\n",
    "        {\"role\": \"user\", \"content\": user_prompt_for(website)}\n",
    "    ]\n",
    "\n",
    "    "
   ]
  },
  {
   "cell_type": "code",
   "execution_count": 11,
   "id": "60cd6cd6",
   "metadata": {},
   "outputs": [
    {
     "data": {
      "text/plain": [
       "[{'role': 'system',\n",
       "  'content': 'You are an assistant that analyzes the contents of a website and provides a short summary, ignoring text that might be navigation related. Respond in markdown.'},\n",
       " {'role': 'user',\n",
       "  'content': 'You are looking at a website titled DLCT PIXE SYSTEM\\nThe contents of this website is as follows; please provide a short summary of this website in markdown. If it includes news or announcements, then summarize these too.\\n\\nAlain De La Cuadra\\nFullstack Developer Specializing in Frontend\\nDesignar och implementerar användarvänliga och responsiva gränssnitt som fascinerar och engagerar. Min entusiasm för frontend kompletteras av en bred förståelse för hela stacken, vilket gör att jag kan bygga robusta och skalbara webblösningar. Ständig utveckling och samarbete är kärnan i mitt arbete.\\nCLONA OCH KÖR PÅ!\\nPusselbitar och Programvara\\nAI Generate Course\\nKräver egen API-nyckel – funkar med Gemini ,OpenAi.\\nSkapa egna AI-drivna utbildningar med Youtube.\\nGitHub Repo\\nVisa på LinkedIn\\nAI Wireframe to Code\\nOmvandla skisser till kod. Kräver Gemini API-nyckel.\\nTesta hur AI tolkar design och genererar färdig kod.\\nGitHub Repo\\nVisa på LinkedIn\\nLMS System\\nOnline kurs byggd i Next.js – responsiv och skalbar.\\nInnehåller kurser, inloggning, framstegsspårning och mer.\\nBesök sidan\\nTECH STACK\\nHär presenteras min expertis inom teknikstacken jag behärskar.\\nJag är flexibel och lär mig snabbt nya verktyg och tekniker för att möta just era behov.\\nHovra gärna över varje skill för att se en kort beskrivning.\\nProva även knapparna — min personliga avatar är en lekfull spegling av mig själv.\\nRedo\\nKodar\\nTränar\\nBachata\\nSalsa\\nHelg\\nRekommendationer\\nMartin Ekberg\\nSystemutvecklare Yoin\\n⭐️⭐️⭐️⭐️⭐️\\nAlain har ett stort tekniskt intresse och vill alltid utvecklas. Hans förmåga att hålla stämningen på topp gör varje arbetsdag rolig och produktiv.\\nRekommenderar varmt!\\nLänkar från\\nMartin Ekberg\\nLinkedIn\\nDaiver y Andrea\\nGrundare Dance by Daiver y Andrea\\n⭐️⭐️⭐️⭐️⭐️\\nAlains LMS-lösning har förändrat mitt sätt att undervisa online. Jag kan enkelt ladda upp klasser och följa elevernas utveckling smidigt. #LMS\\nMagisk plattform!\\nLänkar från\\nDaiver y Andrea\\nDancebyda\\nHanna Sköld\\nSystemutvecklare Volvo Finans\\n⭐️⭐️⭐️⭐️⭐️\\nAlain och jag arbetade i samma team och han bidrog alltid med en positiv stämning i gruppen. Han har stor kunskap särskilt i React.\\nProfessionell och engagerad!\\nLänkar från\\nHanna Sköld\\nLinkedIn\\nMikael Ishhanian\\nUX-designer, Freelance\\n⭐️⭐️⭐️⭐️⭐️\\nAlain förstår design och UX-flöden på djupet. Han levererar alltid lösningar som är både snygga och användarvänliga för slutkunden. #Freelance\\nJobbar gärna med honom igen!\\nLänkar från\\nMikael Ishhanian\\nBehance\\nTillsammans tar vi fram din affärsidé och bygger smarta, skräddarsydda tekniska lösningar som speglar din vision och affärsmodell.\\nJag erbjuder expertis inom Learning Management Systems (LMS) för att säkerställa effektiv onboarding och kontinuerlig utbildning – både internt och för dina kunder. Genom digitala plattformar skapar vi strukturerad, engagerande och mätbar kompetensutveckling.\\nMed avancerad AI-teknik, inklusive Retrieval-Augmented Generation (RAG) och prompt coaching, hjälper jag dig att maximera värdet av din data och fatta mer insiktsdrivna beslut. Vi gör din information sökbar, skalbar och användbar – i realtid.\\nJag utvecklar även anpassade chatbotar och AI-agenter som förbättrar kundupplevelsen, automatiserar support och skapar starkare relationer genom varje interaktion. Dessa agenter integreras sömlöst med dina system och lär sig kontinuerligt för att ge ännu bättre svar.\\n2025 Alain De La Cuadra\\nAI AGENT\\nVälkommen! Behöver du hjälp med att växa eller förbättra din verksamhet med expertishjälp inom frontend- eller fullstackutveckling?'}]"
      ]
     },
     "execution_count": 11,
     "metadata": {},
     "output_type": "execute_result"
    }
   ],
   "source": [
    "messages_for(king)"
   ]
  },
  {
   "cell_type": "code",
   "execution_count": 12,
   "id": "73859de6",
   "metadata": {},
   "outputs": [],
   "source": [
    "def summarize(url):\n",
    "    website = Website(url)\n",
    "    response = openai.chat.completions.create(\n",
    "         model = \"gpt-4o-mini\",\n",
    "         messages= messages_for(website)\n",
    "    )\n",
    "    return response.choices[0].message.content"
   ]
  },
  {
   "cell_type": "code",
   "execution_count": 13,
   "id": "130ef815",
   "metadata": {},
   "outputs": [
    {
     "data": {
      "text/plain": [
       "\"# Summary of DLCT PIXE SYSTEM\\n\\nThe **DLCT PIXE SYSTEM** website showcases the professional profile of **Alain De La Cuadra**, a Fullstack Developer with expertise in frontend development. Alain specializes in designing and implementing user-friendly, responsive interfaces while maintaining a comprehensive understanding of full-stack solutions. He emphasizes ongoing development and collaboration in his work.\\n\\n## Key Offerings:\\n\\n- **AI Generate Course**: Users can create AI-driven courses using their own API key with platforms like Gemini and OpenAI.\\n  \\n- **AI Wireframe to Code**: This feature allows the transformation of sketches into code using Gemini API technology.\\n  \\n- **LMS System**: An online course built with Next.js, offers features like course management, user logins, and progress tracking.\\n\\n## Technical Skills:\\nAlain possesses a flexible and rapidly adaptable tech stack, which includes various tools and techniques he masters tailored to client needs.\\n\\n## Recommendations:\\nThe site includes testimonials from various professionals highlighting Alain's technical prowess, positive demeanor, and ability to deliver user-friendly design solutions. Notable recommendations come from:\\n\\n- **Martin Ekberg**: Praises Alain's technical interest and team spirit.\\n- **Daiver y Andrea**: Highlights the transformational impact of Alain's LMS solution.\\n- **Hanna Sköld**: Recognizes Pierre's knowledge of React and his professionalism.\\n- **Mikael Ishhanian**: Commends Alain's understanding of design and UX.\\n\\n## Conclusion:\\nAlain De La Cuadra offers tailored technical solutions that align with client business ideas, focusing on effective onboarding and continuous education through advanced AI technology. He is open to assisting businesses with their growth through frontend and fullstack development expertise.\""
      ]
     },
     "execution_count": 13,
     "metadata": {},
     "output_type": "execute_result"
    }
   ],
   "source": [
    "summarize(\"https://portfself.vercel.app/\")"
   ]
  },
  {
   "cell_type": "code",
   "execution_count": 14,
   "id": "c0de0733",
   "metadata": {},
   "outputs": [],
   "source": [
    "def display_summary(url):\n",
    "    summary = summarize(url)\n",
    "    display(Markdown(summary))"
   ]
  },
  {
   "cell_type": "code",
   "execution_count": null,
   "id": "9e9cc15e",
   "metadata": {},
   "outputs": [
    {
     "data": {
      "text/markdown": [
       "# DLCT PIXE SYSTEM Website Summary\n",
       "\n",
       "The DLCT PIXE SYSTEM website showcases the work and expertise of Alain De La Cuadra, a fullstack developer specializing in frontend solutions. The content highlights his passion for creating user-friendly and responsive interfaces. He emphasizes continuous development and collaboration as fundamental aspects of his work.\n",
       "\n",
       "## Services and Projects\n",
       "- **AI Generate Course**: A tool to create AI-driven courses using YouTube, requiring an API key for Gemini or OpenAI.\n",
       "- **AI Wireframe to Code**: Converts design sketches into code, also needing a Gemini API key.\n",
       "- **LMS System**: An online course platform built with Next.js, featuring responsive design, course management, and user tracking.\n",
       "\n",
       "## Tech Stack\n",
       "The website provides an overview of Alain's technical skills, showcasing his adaptability and rapid learning ability of new tools and technologies.\n",
       "\n",
       "## Recommendations\n",
       "Several testimonials are included from colleagues and clients who praise Alain's technical interest, positive demeanor, and expertise in areas like React and LMS solutions.\n",
       "\n",
       "## Additional Offerings\n",
       "Alain offers services in developing custom chatbots and AI agents aimed at enhancing customer experience and automating support. The website positions Alain's skills as valuable for businesses looking to grow or improve operations through advanced frontend and fullstack development.\n",
       "\n",
       "## Conclusion\n",
       "The DLCT PIXE SYSTEM site is a personal portfolio that highlights Alain De La Cuadra's capabilities in web development and AI applications, specifically targeting businesses seeking to develop tailored digital solutions."
      ],
      "text/plain": [
       "<IPython.core.display.Markdown object>"
      ]
     },
     "metadata": {},
     "output_type": "display_data"
    },
    {
     "ename": "",
     "evalue": "",
     "output_type": "error",
     "traceback": [
      "\u001b[1;31mThe Kernel crashed while executing code in the current cell or a previous cell. \n",
      "\u001b[1;31mPlease review the code in the cell(s) to identify a possible cause of the failure. \n",
      "\u001b[1;31mClick <a href='https://aka.ms/vscodeJupyterKernelCrash'>here</a> for more info. \n",
      "\u001b[1;31mView Jupyter <a href='command:jupyter.viewOutput'>log</a> for further details."
     ]
    }
   ],
   "source": [
    "display_summary(\"https://portfself.vercel.app/\")"
   ]
  }
 ],
 "metadata": {
  "kernelspec": {
   "display_name": ".venv",
   "language": "python",
   "name": "python3"
  },
  "language_info": {
   "codemirror_mode": {
    "name": "ipython",
    "version": 3
   },
   "file_extension": ".py",
   "mimetype": "text/x-python",
   "name": "python",
   "nbconvert_exporter": "python",
   "pygments_lexer": "ipython3",
   "version": "3.12.7"
  }
 },
 "nbformat": 4,
 "nbformat_minor": 5
}
