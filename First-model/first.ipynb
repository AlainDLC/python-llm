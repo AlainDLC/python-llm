{
 "cells": [
  {
   "cell_type": "code",
   "execution_count": 11,
   "id": "37ce2548",
   "metadata": {},
   "outputs": [],
   "source": [
    "import os\n",
    "import requests\n",
    "from dotenv import load_dotenv\n",
    "from bs4 import BeautifulSoup\n",
    "from IPython.display import Markdown, display\n",
    "from openai import OpenAI\n"
   ]
  },
  {
   "cell_type": "code",
   "execution_count": 14,
   "id": "83b67421",
   "metadata": {},
   "outputs": [
    {
     "name": "stdout",
     "output_type": "stream",
     "text": [
      "API key found and looks good so far!\n"
     ]
    }
   ],
   "source": [
    "# Load environment variables in a file called .env\n",
    "\n",
    "load_dotenv(override=True)\n",
    "api_key = os.getenv('OPENAI_API_KEY')\n",
    "\n",
    "# Check the key\n",
    "\n",
    "if not api_key:\n",
    "    print(\"No API key was found - please head over to the troubleshooting notebook in this folder to identify & fix!\")\n",
    "elif not api_key.startswith(\"sk-proj-\"):\n",
    "    print(\"An API key was found, but it doesn't start sk-proj-; please check you're using the right key - see troubleshooting notebook\")\n",
    "elif api_key.strip() != api_key:\n",
    "    print(\"An API key was found, but it looks like it might have space or tab characters at the start or end - please remove them - see troubleshooting notebook\")\n",
    "else:\n",
    "    print(\"API key found and looks good so far!\")\n"
   ]
  },
  {
   "cell_type": "code",
   "execution_count": 16,
   "id": "a0af3eb8",
   "metadata": {},
   "outputs": [],
   "source": [
    "openai = OpenAI()\n"
   ]
  },
  {
   "cell_type": "code",
   "execution_count": 17,
   "id": "34d77163",
   "metadata": {},
   "outputs": [
    {
     "name": "stdout",
     "output_type": "stream",
     "text": [
      "Hello! I'm glad to hear from you! I'm here to help with whatever you need. What’s on your mind today?\n"
     ]
    }
   ],
   "source": [
    "message = \"Hello GPT! This is my first messeage to you. Was Up! \"\n",
    "response = openai.chat.completions.create(model=\"gpt-4o-mini\", messages=[{\"role\":\"user\", \"content\":message}])\n",
    "print(response.choices[0].message.content)"
   ]
  },
  {
   "cell_type": "code",
   "execution_count": 31,
   "id": "b93b1871",
   "metadata": {},
   "outputs": [],
   "source": [
    "# A class to represent a webpage\n",
    "\n",
    "headers = {\n",
    " \"User-Agent\": \"Mozilla/5.0 (Windows NT 10.0; Win64; x64) AppleWebKit/537.36 (KHTML, like Gecko) Chrome/117.0.0.0 Safari/537.36\"\n",
    "}\n",
    "\n",
    "class Website:\n",
    "\n",
    "    def __init__(self, url):\n",
    "        \"\"\"\n",
    "        Create this Website object from the given url using the BeautifulSoup library\n",
    "        \"\"\"\n",
    "        self.url = url\n",
    "        response = requests.get(url, headers=headers)\n",
    "        soup = BeautifulSoup(response.content, 'html.parser')\n",
    "        self.title = soup.title.string if soup.title else \"No title found\"\n",
    "        for irrelevant in soup.body([\"script\", \"style\", \"img\", \"input\"]):\n",
    "            irrelevant.decompose()\n",
    "        self.text = soup.body.get_text(separator=\"\\n\", strip=True)\n"
   ]
  },
  {
   "cell_type": "code",
   "execution_count": null,
   "id": "48726537",
   "metadata": {},
   "outputs": [],
   "source": [
    "king = Website(\"https://portfself.vercel.app/\")\n",
    "print(king.title)\n",
    "print(king.text)\n"
   ]
  },
  {
   "cell_type": "code",
   "execution_count": 32,
   "id": "df48ab91",
   "metadata": {},
   "outputs": [],
   "source": [
    "# Define ou system promt\n",
    "\n",
    "system_prompt = \"You are an assistant that analyzes the contents of a website \\\n",
    "and provides a short summary, ignoring text that might be navigation related. \\\n",
    "Respond in markdown.\"\n",
    "\n",
    "\n",
    "\n"
   ]
  },
  {
   "cell_type": "code",
   "execution_count": 40,
   "id": "8d4417fd",
   "metadata": {},
   "outputs": [],
   "source": [
    "def user_prompt_for(website):\n",
    "    user_prompt = f\"You are looking at a website titled {website.title}\"\n",
    "    user_prompt += \"\\nThe contents of this website is as follows; \\\n",
    "please provide a short summary of this website in markdown. \\\n",
    "If it includes news or announcements, then summarize these too.\\n\\n\"\n",
    "    user_prompt += website.text\n",
    "    return user_prompt"
   ]
  },
  {
   "cell_type": "code",
   "execution_count": null,
   "id": "6ae6dd7f",
   "metadata": {},
   "outputs": [
    {
     "name": "stdout",
     "output_type": "stream",
     "text": [
      "You are looking at a website titled DLCT PIXE SYSTEM\n",
      "The contents of this website is as follows; please provide a short summary of this website in markdown. If it includes news or announcements, then summarize these too.\n",
      "\n",
      "Alain De La Cuadra\n",
      "Fullstack Developer Specializing in Frontend\n",
      "Designar och implementerar användarvänliga och responsiva gränssnitt som fascinerar och engagerar. Min entusiasm för frontend kompletteras av en bred förståelse för hela stacken, vilket gör att jag kan bygga robusta och skalbara webblösningar. Ständig utveckling och samarbete är kärnan i mitt arbete.\n",
      "CLONA OCH KÖR PÅ!\n",
      "Pusselbitar och Programvara\n",
      "AI Generate Course\n",
      "Kräver egen API-nyckel – funkar med Gemini ,OpenAi.\n",
      "Skapa egna AI-drivna utbildningar med Youtube.\n",
      "GitHub Repo\n",
      "Visa på LinkedIn\n",
      "AI Wireframe to Code\n",
      "Omvandla skisser till kod. Kräver Gemini API-nyckel.\n",
      "Testa hur AI tolkar design och genererar färdig kod.\n",
      "GitHub Repo\n",
      "Visa på LinkedIn\n",
      "LMS System\n",
      "Online kurs byggd i Next.js – responsiv och skalbar.\n",
      "Innehåller kurser, inloggning, framstegsspårning och mer.\n",
      "Besök sidan\n",
      "TECH STACK\n",
      "Här presenteras min expertis inom teknikstacken jag behärskar.\n",
      "Jag är flexibel och lär mig snabbt nya verktyg och tekniker för att möta just era behov.\n",
      "Hovra gärna över varje skill för att se en kort beskrivning.\n",
      "Prova även knapparna — min personliga avatar är en lekfull spegling av mig själv.\n",
      "Redo\n",
      "Kodar\n",
      "Tränar\n",
      "Bachata\n",
      "Salsa\n",
      "Helg\n",
      "Rekommendationer\n",
      "Martin Ekberg\n",
      "Systemutvecklare Yoin\n",
      "⭐️⭐️⭐️⭐️⭐️\n",
      "Alain har ett stort tekniskt intresse och vill alltid utvecklas. Hans förmåga att hålla stämningen på topp gör varje arbetsdag rolig och produktiv.\n",
      "Rekommenderar varmt!\n",
      "Länkar från\n",
      "Martin Ekberg\n",
      "LinkedIn\n",
      "Daiver y Andrea\n",
      "Grundare Dance by Daiver y Andrea\n",
      "⭐️⭐️⭐️⭐️⭐️\n",
      "Alains LMS-lösning har förändrat mitt sätt att undervisa online. Jag kan enkelt ladda upp klasser och följa elevernas utveckling smidigt. #LMS\n",
      "Magisk plattform!\n",
      "Länkar från\n",
      "Daiver y Andrea\n",
      "Dancebyda\n",
      "Hanna Sköld\n",
      "Systemutvecklare Volvo Finans\n",
      "⭐️⭐️⭐️⭐️⭐️\n",
      "Alain och jag arbetade i samma team och han bidrog alltid med en positiv stämning i gruppen. Han har stor kunskap särskilt i React.\n",
      "Professionell och engagerad!\n",
      "Länkar från\n",
      "Hanna Sköld\n",
      "LinkedIn\n",
      "Mikael Ishhanian\n",
      "UX-designer, Freelance\n",
      "⭐️⭐️⭐️⭐️⭐️\n",
      "Alain förstår design och UX-flöden på djupet. Han levererar alltid lösningar som är både snygga och användarvänliga för slutkunden. #Freelance\n",
      "Jobbar gärna med honom igen!\n",
      "Länkar från\n",
      "Mikael Ishhanian\n",
      "Behance\n",
      "Tillsammans tar vi fram din affärsidé och bygger smarta, skräddarsydda tekniska lösningar som speglar din vision och affärsmodell.\n",
      "Jag erbjuder expertis inom Learning Management Systems (LMS) för att säkerställa effektiv onboarding och kontinuerlig utbildning – både internt och för dina kunder. Genom digitala plattformar skapar vi strukturerad, engagerande och mätbar kompetensutveckling.\n",
      "Med avancerad AI-teknik, inklusive Retrieval-Augmented Generation (RAG) och prompt coaching, hjälper jag dig att maximera värdet av din data och fatta mer insiktsdrivna beslut. Vi gör din information sökbar, skalbar och användbar – i realtid.\n",
      "Jag utvecklar även anpassade chatbotar och AI-agenter som förbättrar kundupplevelsen, automatiserar support och skapar starkare relationer genom varje interaktion. Dessa agenter integreras sömlöst med dina system och lär sig kontinuerligt för att ge ännu bättre svar.\n",
      "2025 Alain De La Cuadra\n",
      "AI AGENT\n",
      "Välkommen! Behöver du hjälp med att växa eller förbättra din verksamhet med expertishjälp inom frontend- eller fullstackutveckling?\n"
     ]
    }
   ],
   "source": [
    "print(user_prompt_for(king))\n"
   ]
  },
  {
   "cell_type": "code",
   "execution_count": 41,
   "id": "45fdcc8d",
   "metadata": {},
   "outputs": [],
   "source": [
    "def messages_for(website):\n",
    "    return [\n",
    "        {\"role\": \"system\", \"content\": system_prompt},\n",
    "        {\"role\": \"user\", \"content\": user_prompt_for(website)}\n",
    "    ]\n",
    "\n",
    "    "
   ]
  },
  {
   "cell_type": "code",
   "execution_count": 44,
   "id": "60cd6cd6",
   "metadata": {},
   "outputs": [
    {
     "data": {
      "text/plain": [
       "[{'role': 'system',\n",
       "  'content': 'You are an assistant that analyzes the contents of a website and provides a short summary, ignoring text that might be navigation related. Respond in markdown.'},\n",
       " {'role': 'user',\n",
       "  'content': 'You are looking at a website titled DLCT PIXE SYSTEM\\nThe contents of this website is as follows; please provide a short summary of this website in markdown. If it includes news or announcements, then summarize these too.\\n\\nAlain De La Cuadra\\nFullstack Developer Specializing in Frontend\\nDesignar och implementerar användarvänliga och responsiva gränssnitt som fascinerar och engagerar. Min entusiasm för frontend kompletteras av en bred förståelse för hela stacken, vilket gör att jag kan bygga robusta och skalbara webblösningar. Ständig utveckling och samarbete är kärnan i mitt arbete.\\nCLONA OCH KÖR PÅ!\\nPusselbitar och Programvara\\nAI Generate Course\\nKräver egen API-nyckel – funkar med Gemini ,OpenAi.\\nSkapa egna AI-drivna utbildningar med Youtube.\\nGitHub Repo\\nVisa på LinkedIn\\nAI Wireframe to Code\\nOmvandla skisser till kod. Kräver Gemini API-nyckel.\\nTesta hur AI tolkar design och genererar färdig kod.\\nGitHub Repo\\nVisa på LinkedIn\\nLMS System\\nOnline kurs byggd i Next.js – responsiv och skalbar.\\nInnehåller kurser, inloggning, framstegsspårning och mer.\\nBesök sidan\\nTECH STACK\\nHär presenteras min expertis inom teknikstacken jag behärskar.\\nJag är flexibel och lär mig snabbt nya verktyg och tekniker för att möta just era behov.\\nHovra gärna över varje skill för att se en kort beskrivning.\\nProva även knapparna — min personliga avatar är en lekfull spegling av mig själv.\\nRedo\\nKodar\\nTränar\\nBachata\\nSalsa\\nHelg\\nRekommendationer\\nMartin Ekberg\\nSystemutvecklare Yoin\\n⭐️⭐️⭐️⭐️⭐️\\nAlain har ett stort tekniskt intresse och vill alltid utvecklas. Hans förmåga att hålla stämningen på topp gör varje arbetsdag rolig och produktiv.\\nRekommenderar varmt!\\nLänkar från\\nMartin Ekberg\\nLinkedIn\\nDaiver y Andrea\\nGrundare Dance by Daiver y Andrea\\n⭐️⭐️⭐️⭐️⭐️\\nAlains LMS-lösning har förändrat mitt sätt att undervisa online. Jag kan enkelt ladda upp klasser och följa elevernas utveckling smidigt. #LMS\\nMagisk plattform!\\nLänkar från\\nDaiver y Andrea\\nDancebyda\\nHanna Sköld\\nSystemutvecklare Volvo Finans\\n⭐️⭐️⭐️⭐️⭐️\\nAlain och jag arbetade i samma team och han bidrog alltid med en positiv stämning i gruppen. Han har stor kunskap särskilt i React.\\nProfessionell och engagerad!\\nLänkar från\\nHanna Sköld\\nLinkedIn\\nMikael Ishhanian\\nUX-designer, Freelance\\n⭐️⭐️⭐️⭐️⭐️\\nAlain förstår design och UX-flöden på djupet. Han levererar alltid lösningar som är både snygga och användarvänliga för slutkunden. #Freelance\\nJobbar gärna med honom igen!\\nLänkar från\\nMikael Ishhanian\\nBehance\\nTillsammans tar vi fram din affärsidé och bygger smarta, skräddarsydda tekniska lösningar som speglar din vision och affärsmodell.\\nJag erbjuder expertis inom Learning Management Systems (LMS) för att säkerställa effektiv onboarding och kontinuerlig utbildning – både internt och för dina kunder. Genom digitala plattformar skapar vi strukturerad, engagerande och mätbar kompetensutveckling.\\nMed avancerad AI-teknik, inklusive Retrieval-Augmented Generation (RAG) och prompt coaching, hjälper jag dig att maximera värdet av din data och fatta mer insiktsdrivna beslut. Vi gör din information sökbar, skalbar och användbar – i realtid.\\nJag utvecklar även anpassade chatbotar och AI-agenter som förbättrar kundupplevelsen, automatiserar support och skapar starkare relationer genom varje interaktion. Dessa agenter integreras sömlöst med dina system och lär sig kontinuerligt för att ge ännu bättre svar.\\n2025 Alain De La Cuadra\\nAI AGENT\\nVälkommen! Behöver du hjälp med att växa eller förbättra din verksamhet med expertishjälp inom frontend- eller fullstackutveckling?'}]"
      ]
     },
     "execution_count": 44,
     "metadata": {},
     "output_type": "execute_result"
    }
   ],
   "source": [
    "messages_for(king)"
   ]
  },
  {
   "cell_type": "code",
   "execution_count": 48,
   "id": "73859de6",
   "metadata": {},
   "outputs": [],
   "source": [
    "def summarize(url):\n",
    "    website = Website(url)\n",
    "    response = openai.chat.completions.create(\n",
    "         model = \"gpt-4o-mini\",\n",
    "         messages= messages_for(website)\n",
    "    )\n",
    "    return response.choices[0].message.content"
   ]
  },
  {
   "cell_type": "code",
   "execution_count": 50,
   "id": "130ef815",
   "metadata": {},
   "outputs": [
    {
     "data": {
      "text/plain": [
       "\"# DLCT PIXE SYSTEM\\n\\nThe DLCT PIXE SYSTEM website showcases Alain De La Cuadra, a Fullstack Developer specializing in frontend development. The site highlights his ability to design and implement user-friendly and responsive interfaces while understanding the complete technology stack, enabling him to create robust web solutions. Continuous development and collaboration are central to his work philosophy.\\n\\n## Key Features\\n\\n- **AI Generate Course**: A tool that allows the creation of AI-driven courses using YouTube, requiring an API key for Gemini or OpenAI.\\n- **AI Wireframe to Code**: A feature that converts sketches into code based on AI interpretation, also requiring a Gemini API key.\\n- **LMS System**: An online course platform built with Next.js, which includes functionalities like course management, login, and progress tracking.\\n\\n## Tech Stack\\nAlain showcases flexibility and a quick learning ability in various technologies, with interactive elements that reflect his personality.\\n\\n## Recommendations\\nTestimonials from colleagues and clients praise his technical expertise, positive team contributions, and adeptness in UX and design. Notable recommendations come from:\\n\\n- **Martin Ekberg**: Highlights Alain’s technical interest and ability to maintain a positive work environment.\\n- **Daiver y Andrea**: Praises the impact of Alain's LMS solution on online teaching.\\n- **Hanna Sköld**: Recognizes Alain's professionalism and expertise in React.\\n- **Mikael Ishhanian**: Appreciates Alain's deep understanding of design and usability.\\n\\n## Services Offered\\nAlain provides expertise in Learning Management Systems (LMS) for effective onboarding and training, advanced AI technology for data utilization, customizable chatbots, and AI agents to enhance customer experience and support.\\n\\nThe website points to Alain’s commitment to helping businesses grow through tailored technical solutions in frontend and full-stack development.\""
      ]
     },
     "execution_count": 50,
     "metadata": {},
     "output_type": "execute_result"
    }
   ],
   "source": [
    "summarize(\"https://portfself.vercel.app/\")"
   ]
  },
  {
   "cell_type": "code",
   "execution_count": 51,
   "id": "951aaf84",
   "metadata": {},
   "outputs": [],
   "source": [
    "def display_summary(url):\n",
    "    summary = summarize(url)\n",
    "    display(Markdown(summary))"
   ]
  },
  {
   "cell_type": "code",
   "execution_count": 52,
   "id": "6b6757b8",
   "metadata": {},
   "outputs": [
    {
     "data": {
      "text/markdown": [
       "# DLCT PIXE SYSTEM Summary\n",
       "\n",
       "The DLCT PIXE SYSTEM website presents Alain De La Cuadra, a fullstack developer specializing in frontend development. Alain focuses on creating user-friendly and responsive interfaces, combining expertise across the entire tech stack to build robust web solutions.\n",
       "\n",
       "## Key Offerings:\n",
       "- **AI Generate Course:** Tools to create AI-driven courses using YouTube and requires an API key for Gemini or OpenAI.\n",
       "- **AI Wireframe to Code:** Converts design sketches into code, also requiring a Gemini API key.\n",
       "- **LMS System:** A scalable online course platform built with Next.js that includes features like user login and progress tracking.\n",
       "\n",
       "## Skillset:\n",
       "Alain showcases a flexible tech stack and a quick learning ability for various tools and technologies. His profile incorporates user interaction elements to engage visitors.\n",
       "\n",
       "## Testimonials:\n",
       "Several satisfied clients praise Alain's technical acumen, positive team spirit, and impactful solutions in LMS development and UX design.\n",
       "\n",
       "## Services:\n",
       "Alain offers tailored technical solutions aligned with business visions, emphasizing Learning Management Systems for effective training and onboarding. He utilizes advanced AI techniques to enhance data utility and customer interactions through customized chatbots and AI agents.\n",
       "\n",
       "Overall, the website emphasizes Alain's commitment to continuous development, collaboration, and the incorporation of innovative technologies into web solutions."
      ],
      "text/plain": [
       "<IPython.core.display.Markdown object>"
      ]
     },
     "metadata": {},
     "output_type": "display_data"
    }
   ],
   "source": [
    "display_summary(\"https://portfself.vercel.app/\")"
   ]
  }
 ],
 "metadata": {
  "kernelspec": {
   "display_name": ".venv",
   "language": "python",
   "name": "python3"
  },
  "language_info": {
   "codemirror_mode": {
    "name": "ipython",
    "version": 3
   },
   "file_extension": ".py",
   "mimetype": "text/x-python",
   "name": "python",
   "nbconvert_exporter": "python",
   "pygments_lexer": "ipython3",
   "version": "3.12.7"
  }
 },
 "nbformat": 4,
 "nbformat_minor": 5
}
