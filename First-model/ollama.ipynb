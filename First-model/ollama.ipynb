{
 "cells": [
  {
   "cell_type": "code",
   "execution_count": 2,
   "id": "6476d7a1",
   "metadata": {},
   "outputs": [],
   "source": [
    "import requests\n",
    "from bs4 import BeautifulSoup\n",
    "from IPython.display import Markdown,display"
   ]
  },
  {
   "cell_type": "code",
   "execution_count": 3,
   "id": "6691b123",
   "metadata": {},
   "outputs": [],
   "source": [
    "# constans\n",
    "OLLAMA_API = \"http://localhost:11434/api/chat\"\n",
    "HEADERS = {\"Content-Type\": \"application/json\"}\n",
    "MODEL = \"llama3.2\""
   ]
  },
  {
   "cell_type": "code",
   "execution_count": 4,
   "id": "566a64a5",
   "metadata": {},
   "outputs": [],
   "source": [
    "# create a message list\n",
    "\n",
    "messages = [{\"role\":\"user\", \"content\":\"Describe some of the business applications of Generative AI\"}]"
   ]
  },
  {
   "cell_type": "code",
   "execution_count": 5,
   "id": "da04a9c9",
   "metadata": {},
   "outputs": [],
   "source": [
    "payload = {\n",
    "    \"model\":MODEL,\n",
    "    \"messages\": messages,\n",
    "    \"stream\": False\n",
    "}"
   ]
  },
  {
   "cell_type": "code",
   "execution_count": 6,
   "id": "437fd8f5",
   "metadata": {},
   "outputs": [
    {
     "name": "stderr",
     "output_type": "stream",
     "text": [
      "\u001b[?2026h\u001b[?25l\u001b[1Gpulling manifest ⠋ \u001b[K\u001b[?25h\u001b[?2026l\u001b[?2026h\u001b[?25l\u001b[1Gpulling manifest ⠙ \u001b[K\u001b[?25h\u001b[?2026l\u001b[?2026h\u001b[?25l\u001b[1Gpulling manifest ⠹ \u001b[K\u001b[?25h\u001b[?2026l\u001b[?2026h\u001b[?25l\u001b[1Gpulling manifest ⠸ \u001b[K\u001b[?25h\u001b[?2026l\u001b[?2026h\u001b[?25l\u001b[1Gpulling manifest ⠼ \u001b[K\u001b[?25h\u001b[?2026l\u001b[?2026h\u001b[?25l\u001b[1Gpulling manifest ⠴ \u001b[K\u001b[?25h\u001b[?2026l\u001b[?2026h\u001b[?25l\u001b[1Gpulling manifest \u001b[K\n",
      "pulling dde5aa3fc5ff: 100% ▕██████████████████▏ 2.0 GB                         \u001b[K\n",
      "pulling 966de95ca8a6: 100% ▕██████████████████▏ 1.4 KB                         \u001b[K\n",
      "pulling fcc5a6bec9da: 100% ▕██████████████████▏ 7.7 KB                         \u001b[K\n",
      "pulling a70ff7e570d9: 100% ▕██████████████████▏ 6.0 KB                         \u001b[K\n",
      "pulling 56bb8bd477a5: 100% ▕██████████████████▏   96 B                         \u001b[K\n",
      "pulling 34bb5ab01051: 100% ▕██████████████████▏  561 B                         \u001b[K\n",
      "verifying sha256 digest \u001b[K\n",
      "writing manifest \u001b[K\n",
      "success \u001b[K\u001b[?25h\u001b[?2026l\n"
     ]
    }
   ],
   "source": [
    "!ollama pull llama3.2"
   ]
  },
  {
   "cell_type": "code",
   "execution_count": 7,
   "id": "7abd8f25",
   "metadata": {},
   "outputs": [
    {
     "name": "stdout",
     "output_type": "stream",
     "text": [
      "Generative AI has numerous business applications across various industries, including:\n",
      "\n",
      "1. **Content Generation**: AI-powered tools can create high-quality content such as articles, social media posts, product descriptions, and more. This can help reduce content creation costs and improve consistency.\n",
      "2. **Image and Video Generation**: Generative AI can create visually appealing images, videos, and 3D models for various applications like advertising, marketing, and entertainment.\n",
      "3. **Chatbots and Virtual Assistants**: AI-powered chatbots can provide 24/7 customer support, helping businesses improve their customer experience and reduce operational costs.\n",
      "4. **Product Design and Prototyping**: Generative AI can assist in designing and prototyping products, reducing the time and cost associated with traditional design methods.\n",
      "5. **Recommendation Systems**: AI-powered recommendation engines can suggest products or services to customers based on their behavior, preferences, and historical data.\n",
      "6. **Market Research and Analysis**: Generative AI can analyze large datasets to identify trends, patterns, and insights that inform business decisions.\n",
      "7. **Customer Segmentation and Personalization**: AI-powered tools can help segment customers based on demographics, behavior, and preferences, enabling targeted marketing campaigns and improving customer engagement.\n",
      "8. **Predictive Maintenance**: Generative AI can analyze sensor data from machines and equipment to predict maintenance needs, reducing downtime and increasing overall efficiency.\n",
      "9. **Supply Chain Optimization**: AI-powered tools can analyze supply chain data to identify bottlenecks, optimize inventory levels, and predict demand fluctuations.\n",
      "10. **Data Augmentation**: Generative AI can generate new, synthetic data that can be used to augment existing datasets, improving their quality and quantity.\n",
      "11. **Creative Writing and Content Collaboration**: AI-powered tools can assist writers with content generation, research, and organization, improving productivity and collaboration.\n",
      "12. **Brand Voice and Tone Generation**: Generative AI can help create consistent brand voices and tones across various marketing channels, improving brand recognition and engagement.\n",
      "\n",
      "Some specific business use cases for Generative AI include:\n",
      "\n",
      "* **Netflix**: Uses Generative AI to recommend personalized content to users based on their viewing history and preferences.\n",
      "* **Amazon**: Leverages Generative AI to optimize product recommendations, improve customer service, and reduce operational costs.\n",
      "* **Walmart**: Utilizes Generative AI to analyze supply chain data, predict demand fluctuations, and optimize inventory levels.\n",
      "* **DHL**: Employs Generative AI to predict maintenance needs for its fleet of vehicles, reducing downtime and increasing overall efficiency.\n",
      "\n",
      "These are just a few examples of the many business applications of Generative AI. As the technology continues to evolve, we can expect to see even more innovative use cases across various industries.\n"
     ]
    }
   ],
   "source": [
    "response = requests.post(OLLAMA_API, json=payload, headers=HEADERS)\n",
    "print(response.json()['message']['content'])"
   ]
  },
  {
   "cell_type": "code",
   "execution_count": 8,
   "id": "5ce4d109",
   "metadata": {},
   "outputs": [
    {
     "name": "stdout",
     "output_type": "stream",
     "text": [
      "Generative AI has numerous practical applications in various industries, including:\n",
      "\n",
      "1. **Content Creation**: Tools like DALL-E and Midjourney can generate high-quality images, videos, and texts based on user prompts. This technology is being used to create digital content, such as product images, social media graphics, and even music.\n",
      "2. **Product Design**: Generative AI can aid in the design of new products, furniture, or architecture by generating 3D models and prototypes. Companies like Autodesk and IBM are using this technology to streamline their product development processes.\n",
      "3. **Marketing Automation**: Chatbots and virtual assistants powered by generative AI can help automate customer support, lead generation, and social media engagement. For example, AI-powered chatbots can generate personalized responses to customer inquiries in real-time.\n",
      "4. **Finance and Risk Management**: Generative AI is being used in predictive analytics, risk modeling, and credit scoring. This technology can help financial institutions identify potential risks, predict market trends, and optimize investment portfolios.\n",
      "5. **Healthcare and Medical Research**: Generative AI can be applied to medical imaging analysis, disease diagnosis, and personalized medicine. For example, AI-powered tools can analyze medical scans to detect abnormalities or generate personalized treatment plans for patients.\n",
      "6. **Customer Service and Feedback Analysis**: Generative AI can help analyze customer feedback, sentiment analysis, and respond with empathetic and tailored solutions. This technology is being used by companies like Amazon and Netflix to improve their customer service processes.\n",
      "7. **Automated Writing**: Generative AI can be used to generate high-quality content such as articles, blog posts, and social media updates. Companies like WordLift and Quillbot are already leveraging this technology to help automate their writing processes.\n",
      "8. **Graphic Design and Layout**: Tools like Prisma and Adobe Fresco use generative AI to generate stylized photographs, create artworks, and design layouts for various mediums.\n",
      "9. **Music Creation**: Generative AI has also been used in music generation, creating new compositions, beats, and even remixes based on user input or algorithms.\n",
      "10. **Data Science and Data Augmentation**: Generative AI can be applied to augment existing data sets by generating synthetic data, images, or samples that mimic real-world scenarios.\n",
      "\n",
      "These are just a few examples of the many business applications of generative AI. The technology is constantly evolving, and its potential use cases will continue to expand and intersect with various industries in the coming years.\n"
     ]
    }
   ],
   "source": [
    "# use OpenAi client python library to call Ollama\n",
    "\n",
    "from openai import OpenAI\n",
    "ollama_via_openai = OpenAI(base_url='http://localhost:11434/v1', api_key='ollama')\n",
    "\n",
    "response = ollama_via_openai.chat.completions.create(\n",
    "    model=MODEL,\n",
    "    messages=messages\n",
    ")\n",
    "\n",
    "print(response.choices[0].message.content)"
   ]
  },
  {
   "cell_type": "code",
   "execution_count": 9,
   "id": "290ab42f",
   "metadata": {},
   "outputs": [
    {
     "data": {
      "text/markdown": [
       "**Yoin Technologies**\n",
       "=====================\n",
       "\n",
       "### Överblick\n",
       "\n",
       "Yoin Technologies är en professionell serviceföretag som erbjuder ett bredt spektrum av tekniska tjänster, inklusive artificiell intelligens (AI), design, utveckling och leverantörstjänster. Företaget är baserat i Göteborg, Sverige.\n",
       "\n",
       "### Tjänstebolag\n",
       "\n",
       "* **Service Design**: Skapa digitala tjänster som möter användares behov\n",
       "* **Infrastructure as Code**: Hantera IT-infrastruktur\n",
       "* **Business Design & Innovationsledning**: Hjälpa företag att skapa innovativa tjänster och optimera affärsmodeller\n",
       "* **Design & UX**: Skapa användarcentrerade produkter\n",
       "* **Produkt- & Konceptutveckling**: Ta fram prototyper för att effektivt testa design, affärsidéer och användarupplevelse\n",
       "\n",
       "### Nyheter och meddelanden\n",
       "\n",
       "* Yoin Technologies stöttar AI4good Sweden!\n",
       "* Företaget påbiverer ett samarbete med kundeområdet\n",
       "\n",
       "### Chefsteam\n",
       "\n",
       "* **Johan Hogsved**: Genom strategisk affärsutveckling kan vi tillsammans få ert företag att växa\n",
       "* **Henrik Lövetoft**: Vi arbetar tillsammans för att bygga strategiska planer och utvecklar nya lönsamma koncept\n",
       "* **Marcus Melberg**: Vi utvecklar effektiva systemlösningar och leder tekniska projekt tillsammans\n",
       "* **Carl Henrikson**: Tillsammans med Yoin Advice skapar vi effektiva och användarvänliga tjänster och upplevelser\n",
       "\n",
       "### Kontaktinfo\n",
       "\n",
       "* E-post: `kontakt@yoin.tech`\n",
       "* Telefon: 0709 79 25 79"
      ],
      "text/plain": [
       "<IPython.core.display.Markdown object>"
      ]
     },
     "metadata": {},
     "output_type": "display_data"
    }
   ],
   "source": [
    "# imports\n",
    "import os\n",
    "import requests\n",
    "from dotenv import load_dotenv\n",
    "from bs4 import BeautifulSoup\n",
    "from IPython.display import Markdown, display\n",
    "from openai import OpenAI\n",
    "\n",
    "ollama_via_openai = OpenAI(base_url='http://localhost:11434/v1', api_key='ollama')\n",
    "\n",
    "\n",
    "headers = {\n",
    " \"User-Agent\": \"Mozilla/5.0 (Windows NT 10.0; Win64; x64) AppleWebKit/537.36 (KHTML, like Gecko) Chrome/117.0.0.0 Safari/537.36\"\n",
    "}\n",
    "\n",
    "class Website:\n",
    "\n",
    "    def __init__(self, url):\n",
    "        \"\"\"\n",
    "        Create this Website object from the given url using the BeautifulSoup library\n",
    "        \"\"\"\n",
    "        self.url = url\n",
    "        response = requests.get(url, headers=headers)\n",
    "        soup = BeautifulSoup(response.content, 'html.parser')\n",
    "        self.title = soup.title.string if soup.title else \"No title found\"\n",
    "        for irrelevant in soup.body([\"script\", \"style\", \"img\", \"input\"]):\n",
    "            irrelevant.decompose()\n",
    "        self.text = soup.body.get_text(separator=\"\\n\", strip=True)\n",
    "\n",
    "\n",
    "alain = Website(\"https://portfself.vercel.app/\")\n",
    "\n",
    "\n",
    "system_prompt = \"You are an assistant that analyzes the contents of a website include Exclusive Offer! for anylize\\\n",
    "and provides a short summary, ignoring text that might be navigation related. \\\n",
    "Respond in markdown.\"\n",
    "\n",
    "def user_prompt_for(website):\n",
    "    user_prompt = f\"You are looking at a website titled {website.title}\"\n",
    "    user_prompt += \"\\nThe contents of this website is as follows; \\\n",
    "please provide a short summary of this website in markdown. \\\n",
    "If it includes news or announcements, then summarize these too.\\n\\n\"\n",
    "    user_prompt += website.text\n",
    "    return user_prompt\n",
    "\n",
    "def messages_for(website):\n",
    "    return [\n",
    "        {\"role\": \"system\", \"content\": system_prompt},\n",
    "        {\"role\": \"user\", \"content\": user_prompt_for(website)}\n",
    "    ]\n",
    "\n",
    "def summarize(url):\n",
    "    website = Website(url)\n",
    "    response = ollama_via_openai.chat.completions.create(\n",
    "        model = \"llama3.2\",\n",
    "        messages = messages_for(website)\n",
    "    )\n",
    "    return response.choices[0].message.content\n",
    "\n",
    "\n",
    "\n",
    "def display_summary(url):\n",
    "    summary = summarize(url)\n",
    "    display(Markdown(summary))\n",
    "\n",
    "display_summary(\"https://www.yoin.tech//\")"
   ]
  }
 ],
 "metadata": {
  "kernelspec": {
   "display_name": ".venv",
   "language": "python",
   "name": "python3"
  },
  "language_info": {
   "codemirror_mode": {
    "name": "ipython",
    "version": 3
   },
   "file_extension": ".py",
   "mimetype": "text/x-python",
   "name": "python",
   "nbconvert_exporter": "python",
   "pygments_lexer": "ipython3",
   "version": "3.12.7"
  }
 },
 "nbformat": 4,
 "nbformat_minor": 5
}
