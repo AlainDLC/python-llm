{
 "cells": [
  {
   "cell_type": "code",
   "execution_count": 6,
   "id": "0f32172d",
   "metadata": {},
   "outputs": [],
   "source": [
    "import os\n",
    "from dotenv import load_dotenv\n",
    "from openai import OpenAI\n",
    "import google.generativeai as genai\n",
    "import gradio as gr\n"
   ]
  },
  {
   "cell_type": "code",
   "execution_count": 5,
   "id": "7e3335e0",
   "metadata": {},
   "outputs": [
    {
     "name": "stdout",
     "output_type": "stream",
     "text": [
      "You have the key sk-proj-\n",
      "You have the key AIzaSyDb\n"
     ]
    }
   ],
   "source": [
    "load_dotenv(override=True)\n",
    "openai_api_key = os.getenv('OPENAI_API_KEY')\n",
    "google_api_key = os.getenv('GOOGLE_API_KEY')\n",
    "\n",
    "if openai_api_key:\n",
    "    print(f\"You have the key {openai_api_key[:8]}\" )\n",
    "else:\n",
    "    print(\"OpenAI Key not set\")\n",
    "if google_api_key:\n",
    "    print(f\"You have the key {google_api_key[:8]}\" )\n",
    "else:\n",
    "    print(\"OpenAI Key not set\")\n",
    "\n"
   ]
  },
  {
   "cell_type": "code",
   "execution_count": 8,
   "id": "d4f2a0d1",
   "metadata": {},
   "outputs": [],
   "source": [
    "\n",
    "# Konfigurera API-nyckeln.\n",
    "genai.configure(api_key=os.environ.get(\"GOOGLE_API_KEY\"))\n",
    "MODEL_GEMENI = 'gemini-2.5-flash'\n",
    "gemini = genai.GenerativeModel(MODEL_GEMENI)\n",
    "openai = OpenAI()\n",
    "MODEL_OPENAI = 'gpt-4o-mini'\n",
    "\n"
   ]
  },
  {
   "cell_type": "code",
   "execution_count": 9,
   "id": "9e730448",
   "metadata": {},
   "outputs": [],
   "source": [
    "system_message = \"You are a helpful assistant\""
   ]
  },
  {
   "cell_type": "code",
   "execution_count": 15,
   "id": "3aa4e833",
   "metadata": {},
   "outputs": [],
   "source": [
    "def chat(message, history):\n",
    "    messages = [{\"role\": \"system\", \"content\": system_message}] + history + [{\"role\": \"user\", \"content\": message}]\n",
    "\n",
    "    print(\"History is:\")\n",
    "    print(history)\n",
    "    print(\"And messages is:\")\n",
    "    print(messages)\n",
    "\n",
    "    stream = openai.chat.completions.create(model=MODEL_OPENAI, messages=messages, stream=True)\n",
    "\n",
    "    response = \"\"\n",
    "    for chunk in stream:\n",
    "        response += chunk.choices[0].delta.content or ''\n",
    "        yield response"
   ]
  },
  {
   "cell_type": "code",
   "execution_count": 21,
   "id": "570bac28",
   "metadata": {},
   "outputs": [],
   "source": [
    "system_message = (\n",
    "    \"You are a helpful assistant representing DLC T PIXIE SYSTEM, a company specializing in cutting-edge LMS (Learning Management Systems) \"\n",
    "    \"and AI chatbot solutions. Your goal is to pitch DLC T PIXIE SYSTEM to potential clients by highlighting our expertise, \"\n",
    "    \"innovative technology, and flexible subscription model. \"\n",
    "    \"Start by introducing DLC T PIXIE SYSTEM as a trusted specialist in LMS and AI chatbot integration that helps businesses enhance \"\n",
    "    \"learning experiences and customer engagement through smart automation. \"\n",
    "    \"Emphasize the value and benefits of our subscription plans: \"\n",
    "    \"- Free Tier: A risk-free trial allowing users to explore core features and get familiar with our platform. \"\n",
    "    \"- Medium Tier: Offers enhanced capabilities and additional tools for growing businesses ready to scale their learning and AI chatbot efforts. \"\n",
    "    \"- Premium Tier: The complete package with all advanced features, priority support, and customization options for enterprises demanding the best. \"\n",
    "    \"Gently encourage prospects to start with the Free plan to experience the power of DLC T PIXIE SYSTEM’s solutions firsthand, and then upgrade as their needs grow. \"\n",
    "    \"Be friendly, professional, and persuasive without being pushy. \"\n",
    "    \"End by inviting the user to ask questions or request a personalized demo to see how DLC T PIXIE SYSTEM’s LMS and AI chatbot solutions can transform their business.\"\n",
    ")\n"
   ]
  },
  {
   "cell_type": "code",
   "execution_count": 22,
   "id": "896459a4",
   "metadata": {},
   "outputs": [],
   "source": [
    "def chat(message, history):\n",
    "    messages = [{\"role\": \"system\", \"content\": system_message}] + history + [{\"role\": \"user\", \"content\": message}]\n",
    "\n",
    "    stream = openai.chat.completions.create(model=MODEL_OPENAI, messages=messages, stream=True)\n",
    "\n",
    "    response = \"\"\n",
    "    for chunk in stream:\n",
    "        response += chunk.choices[0].delta.content or ''\n",
    "        yield response"
   ]
  },
  {
   "cell_type": "code",
   "execution_count": 23,
   "id": "800c1970",
   "metadata": {},
   "outputs": [
    {
     "name": "stdout",
     "output_type": "stream",
     "text": [
      "* Running on local URL:  http://127.0.0.1:7889\n",
      "* Running on public URL: https://e3a61bc8955393dc3f.gradio.live\n",
      "\n",
      "This share link expires in 1 week. For free permanent hosting and GPU upgrades, run `gradio deploy` from the terminal in the working directory to deploy to Hugging Face Spaces (https://huggingface.co/spaces)\n"
     ]
    },
    {
     "data": {
      "text/html": [
       "<div><iframe src=\"https://e3a61bc8955393dc3f.gradio.live\" width=\"100%\" height=\"500\" allow=\"autoplay; camera; microphone; clipboard-read; clipboard-write;\" frameborder=\"0\" allowfullscreen></iframe></div>"
      ],
      "text/plain": [
       "<IPython.core.display.HTML object>"
      ]
     },
     "metadata": {},
     "output_type": "display_data"
    },
    {
     "data": {
      "text/plain": []
     },
     "execution_count": 23,
     "metadata": {},
     "output_type": "execute_result"
    }
   ],
   "source": [
    "gr.ChatInterface(fn=chat, type=\"messages\").launch(share=True)"
   ]
  },
  {
   "cell_type": "code",
   "execution_count": 24,
   "id": "cb932b8d",
   "metadata": {},
   "outputs": [],
   "source": [
    "system_message += \"\\nIf the customer asks for a ride, you should respond that we have a kawasaki ninja 650 on sale today, \\\n",
    "test ride it!\""
   ]
  },
  {
   "cell_type": "code",
   "execution_count": 25,
   "id": "9bdc945a",
   "metadata": {},
   "outputs": [
    {
     "name": "stdout",
     "output_type": "stream",
     "text": [
      "* Running on local URL:  http://127.0.0.1:7890\n",
      "* To create a public link, set `share=True` in `launch()`.\n"
     ]
    },
    {
     "data": {
      "text/html": [
       "<div><iframe src=\"http://127.0.0.1:7890/\" width=\"100%\" height=\"500\" allow=\"autoplay; camera; microphone; clipboard-read; clipboard-write;\" frameborder=\"0\" allowfullscreen></iframe></div>"
      ],
      "text/plain": [
       "<IPython.core.display.HTML object>"
      ]
     },
     "metadata": {},
     "output_type": "display_data"
    },
    {
     "data": {
      "text/plain": []
     },
     "execution_count": 25,
     "metadata": {},
     "output_type": "execute_result"
    }
   ],
   "source": [
    "gr.ChatInterface(fn=chat, type=\"messages\").launch()"
   ]
  }
 ],
 "metadata": {
  "kernelspec": {
   "display_name": ".venv",
   "language": "python",
   "name": "python3"
  },
  "language_info": {
   "codemirror_mode": {
    "name": "ipython",
    "version": 3
   },
   "file_extension": ".py",
   "mimetype": "text/x-python",
   "name": "python",
   "nbconvert_exporter": "python",
   "pygments_lexer": "ipython3",
   "version": "3.12.7"
  }
 },
 "nbformat": 4,
 "nbformat_minor": 5
}
